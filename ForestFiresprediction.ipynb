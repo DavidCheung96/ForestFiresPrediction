{
 "cells": [
  {
   "cell_type": "code",
   "execution_count": 1,
   "metadata": {},
   "outputs": [],
   "source": [
    "import ee\n",
    "#ee.Authenticate()"
   ]
  },
  {
   "cell_type": "code",
   "execution_count": 2,
   "metadata": {},
   "outputs": [],
   "source": [
    "import geemap"
   ]
  },
  {
   "cell_type": "code",
   "execution_count": 3,
   "metadata": {},
   "outputs": [],
   "source": [
    "ee.Initialize()"
   ]
  },
  {
   "cell_type": "code",
   "execution_count": 4,
   "metadata": {},
   "outputs": [],
   "source": [
    "map = geemap.Map()"
   ]
  },
  {
   "cell_type": "markdown",
   "metadata": {},
   "source": [
    "This is to retrieve historical fire data"
   ]
  },
  {
   "cell_type": "code",
   "execution_count": 5,
   "metadata": {},
   "outputs": [],
   "source": [
    "#This is only taken from dates in the year 2020\n",
    "imgEsa05 = ee.ImageCollection(\"ESA/CCI/FireCCI/5_1\").filterDate('2005-01-01', '2005-12-31').select('BurnDate')\n",
    "imgEsa20 = ee.ImageCollection(\"ESA/CCI/FireCCI/5_1\").filterDate('2020-01-01', '2020-12-31').select('BurnDate')"
   ]
  },
  {
   "cell_type": "code",
   "execution_count": 6,
   "metadata": {},
   "outputs": [],
   "source": [
    "baVis = {\n",
    "    'min': 1,\n",
    "    'max': 366,\n",
    "    'palette': [\n",
    "        'ff0000', 'fd4100', 'fb8200', 'f9c400', 'f2ff00', 'b6ff05',\n",
    "        '7aff0a', '3eff0f', '02ff15', '00ff55', '00ff99', '00ffdd',\n",
    "        '00ddff', '0098ff', '0052ff', '0210ff', '3a0dfb', '7209f6',\n",
    "        'a905f1', 'e102ed', 'ff00cc', 'ff0089', 'ff0047', 'ff0004'\n",
    "    ],\n",
    "}"
   ]
  },
  {
   "cell_type": "code",
   "execution_count": 7,
   "metadata": {},
   "outputs": [],
   "source": [
    "map.add_basemap(\"ROADMAP\")"
   ]
  },
  {
   "cell_type": "code",
   "execution_count": 8,
   "metadata": {},
   "outputs": [],
   "source": [
    "map.setCenter(-1.5, 40, 6)"
   ]
  },
  {
   "cell_type": "code",
   "execution_count": 9,
   "metadata": {},
   "outputs": [],
   "source": [
    "maxBA20 = imgEsa20.max()\n",
    "maxBA05 = imgEsa05.max()"
   ]
  },
  {
   "cell_type": "code",
   "execution_count": 10,
   "metadata": {},
   "outputs": [],
   "source": [
    "map.addLayer(maxBA20, baVis, 'Forest Fires 2020')"
   ]
  },
  {
   "cell_type": "code",
   "execution_count": 11,
   "metadata": {},
   "outputs": [],
   "source": [
    "map.addLayer(maxBA05, baVis, 'Forest Fires 2005')"
   ]
  },
  {
   "cell_type": "markdown",
   "metadata": {},
   "source": [
    "Trying out different dataset, same equipment(MODIS) but different provider: NASA"
   ]
  },
  {
   "cell_type": "code",
   "execution_count": 12,
   "metadata": {},
   "outputs": [],
   "source": [
    "imgNasa20 = ee.ImageCollection('MODIS/061/MCD64A1').filterDate('2020-01-01', '2020-12-31').select('BurnDate')"
   ]
  },
  {
   "cell_type": "code",
   "execution_count": 13,
   "metadata": {
    "scrolled": true
   },
   "outputs": [],
   "source": [
    "baNasaVis = {\n",
    "    'min': 30.0,\n",
    "    'max': 341.0,\n",
    "    'palette': [\n",
    "        '4e0400', '951003', 'c61503', 'ff1901'\n",
    "    ],\n",
    "}"
   ]
  },
  {
   "cell_type": "code",
   "execution_count": 14,
   "metadata": {},
   "outputs": [],
   "source": [
    "map.addLayer(imgNasa20, baNasaVis, 'Forest Fires Nasa 2020')"
   ]
  },
  {
   "cell_type": "code",
   "execution_count": 15,
   "metadata": {},
   "outputs": [
    {
     "name": "stderr",
     "output_type": "stream",
     "text": [
      "No such comm: 8959f82e008d4670afc9f8714fd0f9b5\n",
      "No such comm: 8959f82e008d4670afc9f8714fd0f9b5\n",
      "No such comm: 8959f82e008d4670afc9f8714fd0f9b5\n",
      "No such comm: 8959f82e008d4670afc9f8714fd0f9b5\n",
      "No such comm: 8959f82e008d4670afc9f8714fd0f9b5\n",
      "No such comm: 8959f82e008d4670afc9f8714fd0f9b5\n",
      "No such comm: 8959f82e008d4670afc9f8714fd0f9b5\n",
      "No such comm: 8959f82e008d4670afc9f8714fd0f9b5\n",
      "No such comm: 8959f82e008d4670afc9f8714fd0f9b5\n",
      "No such comm: 8959f82e008d4670afc9f8714fd0f9b5\n",
      "No such comm: 8959f82e008d4670afc9f8714fd0f9b5\n",
      "No such comm: 8959f82e008d4670afc9f8714fd0f9b5\n",
      "No such comm: 8959f82e008d4670afc9f8714fd0f9b5\n",
      "No such comm: 8959f82e008d4670afc9f8714fd0f9b5\n",
      "No such comm: 8959f82e008d4670afc9f8714fd0f9b5\n",
      "No such comm: 8959f82e008d4670afc9f8714fd0f9b5\n",
      "No such comm: 8959f82e008d4670afc9f8714fd0f9b5\n",
      "No such comm: 8959f82e008d4670afc9f8714fd0f9b5\n",
      "No such comm: 8959f82e008d4670afc9f8714fd0f9b5\n",
      "No such comm: 8959f82e008d4670afc9f8714fd0f9b5\n",
      "No such comm: 8959f82e008d4670afc9f8714fd0f9b5\n",
      "No such comm: 8959f82e008d4670afc9f8714fd0f9b5\n",
      "No such comm: 8959f82e008d4670afc9f8714fd0f9b5\n",
      "No such comm: 8959f82e008d4670afc9f8714fd0f9b5\n",
      "No such comm: 8959f82e008d4670afc9f8714fd0f9b5\n",
      "No such comm: 8959f82e008d4670afc9f8714fd0f9b5\n",
      "No such comm: 8959f82e008d4670afc9f8714fd0f9b5\n",
      "No such comm: 8959f82e008d4670afc9f8714fd0f9b5\n",
      "No such comm: 8959f82e008d4670afc9f8714fd0f9b5\n",
      "No such comm: 8959f82e008d4670afc9f8714fd0f9b5\n",
      "No such comm: 8959f82e008d4670afc9f8714fd0f9b5\n",
      "No such comm: 8959f82e008d4670afc9f8714fd0f9b5\n",
      "No such comm: 8959f82e008d4670afc9f8714fd0f9b5\n",
      "No such comm: 8959f82e008d4670afc9f8714fd0f9b5\n",
      "No such comm: 8959f82e008d4670afc9f8714fd0f9b5\n",
      "No such comm: 8959f82e008d4670afc9f8714fd0f9b5\n",
      "No such comm: 8959f82e008d4670afc9f8714fd0f9b5\n",
      "No such comm: 8959f82e008d4670afc9f8714fd0f9b5\n",
      "No such comm: 8959f82e008d4670afc9f8714fd0f9b5\n",
      "No such comm: 8959f82e008d4670afc9f8714fd0f9b5\n",
      "No such comm: 8959f82e008d4670afc9f8714fd0f9b5\n"
     ]
    },
    {
     "data": {
      "application/vnd.jupyter.widget-view+json": {
       "model_id": "e72cf4d59549458fb45125df42a76b64",
       "version_major": 2,
       "version_minor": 0
      },
      "text/plain": [
       "Map(center=[40, -1.5], controls=(WidgetControl(options=['position', 'transparent_bg'], widget=HBox(children=(T…"
      ]
     },
     "metadata": {},
     "output_type": "display_data"
    },
    {
     "name": "stderr",
     "output_type": "stream",
     "text": [
      "No such comm: c44d1ce2450f4831bd068a4d42f81d59\n"
     ]
    }
   ],
   "source": [
    "map"
   ]
  },
  {
   "cell_type": "markdown",
   "metadata": {},
   "source": [
    "Retrieving data about moisture in top layer soil (0-5cm)"
   ]
  },
  {
   "cell_type": "code",
   "execution_count": 16,
   "metadata": {},
   "outputs": [],
   "source": [
    "imgWeather20 = ee.ImageCollection(\"NASA/SMAP/SPL4SMGP/007\").filter(ee.Filter.date('2017-04-01', '2017-04-30')).select('sm_surface');"
   ]
  },
  {
   "cell_type": "code",
   "execution_count": 17,
   "metadata": {},
   "outputs": [],
   "source": [
    "topLayerSoilMoistureVis = {\n",
    "  'min': 0.0,\n",
    "  'max': 0.9,\n",
    "  'palette': ['0300ff', '418504', 'efff07', 'efff07', 'ff0303'],\n",
    "}"
   ]
  },
  {
   "cell_type": "code",
   "execution_count": 18,
   "metadata": {},
   "outputs": [],
   "source": [
    "map.addLayer(imgWeather20, topLayerSoilMoistureVis, 'Top layer soil moisture');"
   ]
  },
  {
   "cell_type": "markdown",
   "metadata": {},
   "source": [
    "Retrieving data about normalized difference vegetation index, this is data about the  "
   ]
  }
 ],
 "metadata": {
  "kernelspec": {
   "display_name": "Python 3 (ipykernel)",
   "language": "python",
   "name": "python3"
  },
  "language_info": {
   "codemirror_mode": {
    "name": "ipython",
    "version": 3
   },
   "file_extension": ".py",
   "mimetype": "text/x-python",
   "name": "python",
   "nbconvert_exporter": "python",
   "pygments_lexer": "ipython3",
   "version": "3.11.3"
  }
 },
 "nbformat": 4,
 "nbformat_minor": 4
}
